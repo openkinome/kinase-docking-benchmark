{
 "cells": [
  {
   "cell_type": "markdown",
   "id": "2ff64acc-a417-4613-ab46-651205d6c645",
   "metadata": {},
   "source": [
    "# Covalent ligands\n",
    "\n",
    "This notebook explores the impact of covalently bound ligands on the performance of the docking algorithms **Fred**, **Hybrid** and **Posit**."
   ]
  },
  {
   "cell_type": "code",
   "execution_count": 1,
   "id": "21cff726-7e45-42fa-a76c-71db3c58b4db",
   "metadata": {},
   "outputs": [],
   "source": [
    "from pathlib import Path\n",
    "\n",
    "from matplotlib import pyplot as plt\n",
    "import pandas as pd\n",
    "import seaborn as sns"
   ]
  },
  {
   "cell_type": "code",
   "execution_count": 2,
   "id": "9515ba32-877e-4455-a8fb-881a5f080aca",
   "metadata": {},
   "outputs": [],
   "source": [
    "sns.set() # Setting seaborn as default style even if use only matplotlib"
   ]
  },
  {
   "cell_type": "code",
   "execution_count": 3,
   "id": "46f8e676-4170-4d41-aa83-44ce3cf19daa",
   "metadata": {},
   "outputs": [],
   "source": [
    "OUT_DIR = Path(\"../pics\")\n",
    "OUT_DIR.mkdir(parents=True, exist_ok=True)"
   ]
  },
  {
   "cell_type": "code",
   "execution_count": 4,
   "id": "ac2139e2-9bbc-4455-b1ac-9edf6a6bc047",
   "metadata": {},
   "outputs": [
    {
     "name": "stdout",
     "output_type": "stream",
     "text": [
      "Total number of structures in benchmark: 589\n",
      "Number of structures in benchmark with covalent ligand: 11\n"
     ]
    }
   ],
   "source": [
    "fred_results = pd.read_csv(\"../data/fred_results.csv\", index_col=0)\n",
    "hybrid_results = pd.read_csv(\"../data/hybrid_results.csv\", index_col=0)\n",
    "posit_results = pd.read_csv(\"../data/posit_results.csv\", index_col=0)\n",
    "docking_benchmark_dataset = pd.read_csv(\"../data/docking_benchmark_dataset.csv\", index_col=0)\n",
    "print(f\"Total number of structures in benchmark: {len(docking_benchmark_dataset)}\")\n",
    "n_covalent_ligands = sum(docking_benchmark_dataset[\"covalent_ligand\"])\n",
    "print(f\"Number of structures in benchmark with covalent ligand: {n_covalent_ligands}\")"
   ]
  },
  {
   "cell_type": "code",
   "execution_count": 5,
   "id": "54fd1e71-62d1-4538-b9c7-b3da94c50e60",
   "metadata": {},
   "outputs": [],
   "source": [
    "# apply covalent categories to results\n",
    "covalent_pdb_ids = docking_benchmark_dataset[docking_benchmark_dataset[\"covalent_ligand\"]][\"structure.pdb_id\"].to_list()\n",
    "for results in [fred_results, hybrid_results, posit_results]:\n",
    "    results.loc[:, \"covalent_category\"] = \"None\"\n",
    "    covalent_bound_indices = results[results[\"protein_pdb_id\"].isin(covalent_pdb_ids)].index\n",
    "    results.loc[covalent_bound_indices, \"covalent_category\"] = \"bound\"\n",
    "    covalent_docked_indices = results[results[\"ligand_pdb_id\"].isin(covalent_pdb_ids)].index\n",
    "    results.loc[covalent_docked_indices, \"covalent_category\"] = \"docked\"\n",
    "    covalent_bound_and_docked_indices = [x for x in covalent_bound_indices if x in covalent_docked_indices]\n",
    "    results.loc[covalent_bound_and_docked_indices, \"covalent_category\"] = \"bound+docked\""
   ]
  },
  {
   "cell_type": "markdown",
   "id": "0cc865b5-98ad-47ca-a03a-3cdbdea4d0f2",
   "metadata": {},
   "source": [
    "## Impact of covalent ligands on docking performance"
   ]
  },
  {
   "cell_type": "code",
   "execution_count": 6,
   "id": "cadfdbd9-4384-44c0-9719-5d6f77491289",
   "metadata": {},
   "outputs": [
    {
     "data": {
      "image/png": "[encoded data removed]",
      "text/plain": [
       "<Figure size 1080x360 with 3 Axes>"
      ]
     },
     "metadata": {},
     "output_type": "display_data"
    }
   ],
   "source": [
    "def plot_performance(fred_results, hybrid_results, posit_results, n_bootstrap=1000, ci=0.95, directory=OUT_DIR):\n",
    "    \n",
    "    # select pose 1 for Fred and Hybrid, i.e. best pose according to docking score\n",
    "    fred_results = fred_results[fred_results[\"pose\"] == 1]\n",
    "    hybrid_results = hybrid_results[hybrid_results[\"pose\"] == 1]\n",
    "    \n",
    "    # 3 subplots\n",
    "    fig, axes = plt.subplots(1, 3, sharey=True, figsize=(15, 5))\n",
    "    \n",
    "    # sample success rates\n",
    "    sampled_success_rates = []\n",
    "    covalent_categories = [\"None\", \"bound\", \"docked\", \"bound+docked\"]\n",
    "    for method, results in zip([\"Fred\", \"Hybrid\", \"Posit\"], [fred_results, hybrid_results, posit_results]):\n",
    "        for covalent_category in covalent_categories:\n",
    "            result_selection = results[results[\"covalent_category\"] == covalent_category]\n",
    "            sampled_success_rates_i = []\n",
    "            for _ in range(n_bootstrap):  # pick a random structure per ligand\n",
    "                sampled_results = result_selection.groupby([\"ligand_pdb_id\"]).sample(n=1)\n",
    "                sampled_success_labels = (sampled_results[\"rmsd\"] <= 2).to_list()\n",
    "                sampled_success_rates_i.append(\n",
    "                    (sum(sampled_success_labels) / len(sampled_success_labels)) * 100\n",
    "                )\n",
    "            sampled_success_rates_i = sorted(sampled_success_rates_i)\n",
    "            mean = sum(sampled_success_rates_i) / len(sampled_success_rates_i)\n",
    "            cutoff = (1 - ci) / 2\n",
    "            lower_bound = sampled_success_rates_i[int(n_bootstrap * cutoff)]\n",
    "            upper_bound = sampled_success_rates_i[int(n_bootstrap * (ci + cutoff))]\n",
    "            sampled_success_rates.append([covalent_category, method, mean, lower_bound, upper_bound])\n",
    "            \n",
    "    # plot sampled data\n",
    "    sampled_success_rates = pd.DataFrame(\n",
    "        sampled_success_rates, \n",
    "        columns=[\"covalent_category\", \"method\", \"success_rate\", \"ci_lower\", \"ci_upper\"]\n",
    "    )\n",
    "    for i, method in enumerate([\"Fred\", \"Hybrid\", \"Posit\"]):\n",
    "        sampled_success_rates_i = sampled_success_rates[sampled_success_rates[\"method\"] == method]\n",
    "        axes[i].errorbar(\n",
    "            x=sampled_success_rates_i[\"covalent_category\"],\n",
    "            y=sampled_success_rates_i[\"success_rate\"],\n",
    "            yerr=[\n",
    "                sampled_success_rates_i[\"success_rate\"] - sampled_success_rates_i[\"ci_lower\"], \n",
    "                sampled_success_rates_i[\"ci_upper\"] - sampled_success_rates_i[\"success_rate\"]\n",
    "            ],\n",
    "            fmt=\"o\",\n",
    "            elinewidth=1,\n",
    "            capsize=5,\n",
    "            capthick=1\n",
    "        )\n",
    "        axes[i].set_xlabel(\"Covalent category\", fontweight=\"bold\")\n",
    "        axes[i].set_xticks([\"None\", \"bound\", \"docked\", \"bound+docked\"])\n",
    "        axes[i].set_xticklabels([\"None\", \"bound\", \"docked\", \"bound+\\ndocked\"])\n",
    "        axes[i].set_title(method, fontweight=\"bold\")\n",
    "    axes[0].set_ylabel(\"Success rate [%]\", fontweight=\"bold\")\n",
    "    \n",
    "    plt.tight_layout()\n",
    "    plt.savefig(directory / \"covalent_ligands.png\", dpi=300)\n",
    "    \n",
    "    return sampled_success_rates\n",
    "        \n",
    "        \n",
    "sampled_success_rates = plot_performance(fred_results, hybrid_results, posit_results)"
   ]
  },
  {
   "cell_type": "code",
   "execution_count": 7,
   "id": "93885b31-a6ac-4750-84c5-cbc142c714a9",
   "metadata": {},
   "outputs": [
    {
     "data": {
      "text/html": [
       "<div>\n",
       "<style scoped>\n",
       "    .dataframe tbody tr th:only-of-type {\n",
       "        vertical-align: middle;\n",
       "    }\n",
       "\n",
       "    .dataframe tbody tr th {\n",
       "        vertical-align: top;\n",
       "    }\n",
       "\n",
       "    .dataframe thead th {\n",
       "        text-align: right;\n",
       "    }\n",
       "</style>\n",
       "<table border=\"1\" class=\"dataframe\">\n",
       "  <thead>\n",
       "    <tr style=\"text-align: right;\">\n",
       "      <th></th>\n",
       "      <th>covalent_category</th>\n",
       "      <th>method</th>\n",
       "      <th>success_rate</th>\n",
       "      <th>ci_lower</th>\n",
       "      <th>ci_upper</th>\n",
       "    </tr>\n",
       "  </thead>\n",
       "  <tbody>\n",
       "    <tr>\n",
       "      <th>0</th>\n",
       "      <td>None</td>\n",
       "      <td>Fred</td>\n",
       "      <td>24.136505</td>\n",
       "      <td>21.280277</td>\n",
       "      <td>26.816609</td>\n",
       "    </tr>\n",
       "    <tr>\n",
       "      <th>1</th>\n",
       "      <td>bound</td>\n",
       "      <td>Fred</td>\n",
       "      <td>8.615556</td>\n",
       "      <td>2.222222</td>\n",
       "      <td>15.555556</td>\n",
       "    </tr>\n",
       "    <tr>\n",
       "      <th>2</th>\n",
       "      <td>docked</td>\n",
       "      <td>Fred</td>\n",
       "      <td>12.654545</td>\n",
       "      <td>0.000000</td>\n",
       "      <td>27.272727</td>\n",
       "    </tr>\n",
       "    <tr>\n",
       "      <th>3</th>\n",
       "      <td>bound+docked</td>\n",
       "      <td>Fred</td>\n",
       "      <td>13.300000</td>\n",
       "      <td>0.000000</td>\n",
       "      <td>27.272727</td>\n",
       "    </tr>\n",
       "    <tr>\n",
       "      <th>4</th>\n",
       "      <td>None</td>\n",
       "      <td>Hybrid</td>\n",
       "      <td>27.847059</td>\n",
       "      <td>24.567474</td>\n",
       "      <td>31.141869</td>\n",
       "    </tr>\n",
       "    <tr>\n",
       "      <th>5</th>\n",
       "      <td>bound</td>\n",
       "      <td>Hybrid</td>\n",
       "      <td>10.375556</td>\n",
       "      <td>2.222222</td>\n",
       "      <td>17.777778</td>\n",
       "    </tr>\n",
       "    <tr>\n",
       "      <th>6</th>\n",
       "      <td>docked</td>\n",
       "      <td>Hybrid</td>\n",
       "      <td>7.227273</td>\n",
       "      <td>0.000000</td>\n",
       "      <td>27.272727</td>\n",
       "    </tr>\n",
       "    <tr>\n",
       "      <th>7</th>\n",
       "      <td>bound+docked</td>\n",
       "      <td>Hybrid</td>\n",
       "      <td>22.363636</td>\n",
       "      <td>0.000000</td>\n",
       "      <td>45.454545</td>\n",
       "    </tr>\n",
       "    <tr>\n",
       "      <th>8</th>\n",
       "      <td>None</td>\n",
       "      <td>Posit</td>\n",
       "      <td>33.647578</td>\n",
       "      <td>30.449827</td>\n",
       "      <td>36.851211</td>\n",
       "    </tr>\n",
       "    <tr>\n",
       "      <th>9</th>\n",
       "      <td>bound</td>\n",
       "      <td>Posit</td>\n",
       "      <td>13.177778</td>\n",
       "      <td>4.444444</td>\n",
       "      <td>22.222222</td>\n",
       "    </tr>\n",
       "    <tr>\n",
       "      <th>10</th>\n",
       "      <td>docked</td>\n",
       "      <td>Posit</td>\n",
       "      <td>12.472727</td>\n",
       "      <td>0.000000</td>\n",
       "      <td>36.363636</td>\n",
       "    </tr>\n",
       "    <tr>\n",
       "      <th>11</th>\n",
       "      <td>bound+docked</td>\n",
       "      <td>Posit</td>\n",
       "      <td>29.336364</td>\n",
       "      <td>9.090909</td>\n",
       "      <td>54.545455</td>\n",
       "    </tr>\n",
       "  </tbody>\n",
       "</table>\n",
       "</div>"
      ],
      "text/plain": [
       "   covalent_category  method  success_rate   ci_lower   ci_upper\n",
       "0               None    Fred     24.136505  21.280277  26.816609\n",
       "1              bound    Fred      8.615556   2.222222  15.555556\n",
       "2             docked    Fred     12.654545   0.000000  27.272727\n",
       "3       bound+docked    Fred     13.300000   0.000000  27.272727\n",
       "4               None  Hybrid     27.847059  24.567474  31.141869\n",
       "5              bound  Hybrid     10.375556   2.222222  17.777778\n",
       "6             docked  Hybrid      7.227273   0.000000  27.272727\n",
       "7       bound+docked  Hybrid     22.363636   0.000000  45.454545\n",
       "8               None   Posit     33.647578  30.449827  36.851211\n",
       "9              bound   Posit     13.177778   4.444444  22.222222\n",
       "10            docked   Posit     12.472727   0.000000  36.363636\n",
       "11      bound+docked   Posit     29.336364   9.090909  54.545455"
      ]
     },
     "execution_count": 7,
     "metadata": {},
     "output_type": "execute_result"
    }
   ],
   "source": [
    "sampled_success_rates"
   ]
  }
 ],
 "metadata": {
  "kernelspec": {
   "display_name": "Python 3 (ipykernel)",
   "language": "python",
   "name": "python3"
  },
  "language_info": {
   "codemirror_mode": {
    "name": "ipython",
    "version": 3
   },
   "file_extension": ".py",
   "mimetype": "text/x-python",
   "name": "python",
   "nbconvert_exporter": "python",
   "pygments_lexer": "ipython3",
   "version": "3.9.7"
  }
 },
 "nbformat": 4,
 "nbformat_minor": 5
}
