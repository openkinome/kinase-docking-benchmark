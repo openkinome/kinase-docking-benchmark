{
 "cells": [
  {
   "cell_type": "markdown",
   "id": "2ff64acc-a417-4613-ab46-651205d6c645",
   "metadata": {},
   "source": [
    "# Structure quality\n",
    "\n",
    "This notebook explores the impact of the structure quality on the performance of the docking algorithms **Fred**, **Hybrid** and **Posit**. The [irdium score](https://docs.eyesopen.com/toolkits/python/sprucetk/theory/iridium.html) from OpenEye will be used as a measure of structure quality."
   ]
  },
  {
   "cell_type": "code",
   "execution_count": 1,
   "id": "21cff726-7e45-42fa-a76c-71db3c58b4db",
   "metadata": {},
   "outputs": [],
   "source": [
    "from pathlib import Path\n",
    "\n",
    "from matplotlib import pyplot as plt\n",
    "import pandas as pd\n",
    "import seaborn as sns"
   ]
  },
  {
   "cell_type": "code",
   "execution_count": 2,
   "id": "9515ba32-877e-4455-a8fb-881a5f080aca",
   "metadata": {},
   "outputs": [],
   "source": [
    "sns.set() # Setting seaborn as default style even if use only matplotlib"
   ]
  },
  {
   "cell_type": "code",
   "execution_count": 3,
   "id": "46f8e676-4170-4d41-aa83-44ce3cf19daa",
   "metadata": {},
   "outputs": [],
   "source": [
    "OUT_DIR = Path(\"../pics\")\n",
    "OUT_DIR.mkdir(parents=True, exist_ok=True)"
   ]
  },
  {
   "cell_type": "code",
   "execution_count": 4,
   "id": "ac2139e2-9bbc-4455-b1ac-9edf6a6bc047",
   "metadata": {},
   "outputs": [
    {
     "name": "stdout",
     "output_type": "stream",
     "text": [
      "Total number of structures in benchmark: 589\n",
      "Number of structures in benchmark in iridium category HT: 138\n",
      "Number of structures in benchmark in iridium category MT: 360\n",
      "Number of structures in benchmark in iridium category NT: 4\n",
      "Number of structures in benchmark in iridium category NA: 87\n"
     ]
    }
   ],
   "source": [
    "fred_results = pd.read_csv(\"../data/fred_results.csv\", index_col=0)\n",
    "hybrid_results = pd.read_csv(\"../data/hybrid_results.csv\", index_col=0)\n",
    "posit_results = pd.read_csv(\"../data/posit_results.csv\", index_col=0)\n",
    "docking_benchmark_dataset = pd.read_csv(\"../data/docking_benchmark_dataset.csv\", index_col=0)\n",
    "# fix 'NA' category\n",
    "nan_indices = docking_benchmark_dataset[\"iridium_category\"].isna()\n",
    "docking_benchmark_dataset.loc[nan_indices[nan_indices].index.values, \"iridium_category\"] = \"NA\"\n",
    "print(f\"Total number of structures in benchmark: {len(docking_benchmark_dataset)}\")\n",
    "for quality_group in [\"HT\", \"MT\", \"NT\", \"NA\"]:\n",
    "    n_structures = sum(docking_benchmark_dataset[\"iridium_category\"] == quality_group)\n",
    "    print(f\"Number of structures in benchmark in iridium category {quality_group}: {n_structures}\")"
   ]
  },
  {
   "cell_type": "markdown",
   "id": "0cc865b5-98ad-47ca-a03a-3cdbdea4d0f2",
   "metadata": {},
   "source": [
    "## Impact of structure quality on docking performance"
   ]
  },
  {
   "cell_type": "code",
   "execution_count": 5,
   "id": "cadfdbd9-4384-44c0-9719-5d6f77491289",
   "metadata": {},
   "outputs": [
    {
     "data": {
      "image/png": "[encoded data removed]",
      "text/plain": [
       "<Figure size 1080x360 with 3 Axes>"
      ]
     },
     "metadata": {
      "needs_background": "light"
     },
     "output_type": "display_data"
    }
   ],
   "source": [
    "def plot_performance(docking_benchmark_dataset, fred_results, hybrid_results, posit_results, n_bootstrap=1000, ci=0.95, directory=OUT_DIR):\n",
    "    \n",
    "    # select pose 1 for Fred and Hybrid, i.e. best pose according to docking score\n",
    "    fred_results = fred_results[fred_results[\"pose\"] == 1]\n",
    "    hybrid_results = hybrid_results[hybrid_results[\"pose\"] == 1]\n",
    "    \n",
    "    # 3 subplots\n",
    "    fig, axes = plt.subplots(1, 3, sharey=True, figsize=(15, 5))\n",
    "    \n",
    "    # sample success rates\n",
    "    sampled_success_rates = []\n",
    "    quality_groups = [\"HT\", \"MT\", \"NT\"]\n",
    "    for method, results in zip([\"Fred\", \"Hybrid\", \"Posit\"], [fred_results, hybrid_results, posit_results]):\n",
    "        for quality_group in quality_groups:\n",
    "            group_pdb_ids = docking_benchmark_dataset[\n",
    "                docking_benchmark_dataset[\"iridium_category\"] == quality_group\n",
    "            ][\"structure.pdb_id\"].to_list()\n",
    "            result_selection = results[results[\"ligand_pdb_id\"].isin(group_pdb_ids)]\n",
    "            sampled_success_rates_i = []\n",
    "            for _ in range(n_bootstrap):\n",
    "                sampled_results = result_selection.groupby(\"ligand_pdb_id\").sample(n=1, replace=True)\n",
    "                sampled_success_labels = (sampled_results[\"rmsd\"] <= 2).to_list()\n",
    "                sampled_success_rates_i.append(\n",
    "                    (sum(sampled_success_labels) / len(sampled_success_labels)) * 100\n",
    "                )\n",
    "            sampled_success_rates_i = sorted(sampled_success_rates_i)\n",
    "            mean = sum(sampled_success_rates_i) / len(sampled_success_rates_i)\n",
    "            cutoff = (1 - ci) / 2\n",
    "            lower_bound = sampled_success_rates_i[int(n_bootstrap * cutoff)]\n",
    "            upper_bound = sampled_success_rates_i[int(n_bootstrap * (ci + cutoff))]\n",
    "            sampled_success_rates.append([quality_group, method, mean, lower_bound, upper_bound])\n",
    "            \n",
    "    # plot sampled data\n",
    "    sampled_success_rates = pd.DataFrame(\n",
    "        sampled_success_rates, \n",
    "        columns=[\"quality_group\", \"method\", \"success_rate\", \"ci_lower\", \"ci_upper\"]\n",
    "    )\n",
    "    for i, method in enumerate([\"Fred\", \"Hybrid\", \"Posit\"]):\n",
    "        sampled_success_rates_i = sampled_success_rates[sampled_success_rates[\"method\"] == method]\n",
    "        axes[i].errorbar(\n",
    "            x=sampled_success_rates_i[\"quality_group\"],\n",
    "            y=sampled_success_rates_i[\"success_rate\"],\n",
    "            yerr=[\n",
    "                sampled_success_rates_i[\"success_rate\"] - sampled_success_rates_i[\"ci_lower\"], \n",
    "                sampled_success_rates_i[\"ci_upper\"] - sampled_success_rates_i[\"success_rate\"]\n",
    "            ],\n",
    "            fmt=\"o\",\n",
    "            elinewidth=1,\n",
    "            capsize=5,\n",
    "            capthick=1\n",
    "        )\n",
    "        axes[i].set_xlabel(\"Iridium category\", fontweight=\"bold\")\n",
    "        axes[i].set_title(method, fontweight=\"bold\")\n",
    "    axes[0].set_ylim([0, 100])\n",
    "    axes[0].set_ylabel(\"Success rate [%]\", fontweight=\"bold\")\n",
    "    \n",
    "    plt.tight_layout()\n",
    "    plt.savefig(directory / \"structure_quality_impact.pdf\", dpi=300)\n",
    "    \n",
    "    return sampled_success_rates\n",
    "        \n",
    "        \n",
    "sampled_success_rates = plot_performance(docking_benchmark_dataset, fred_results, hybrid_results, posit_results)"
   ]
  },
  {
   "cell_type": "code",
   "execution_count": 6,
   "id": "a121e785-881f-49d1-9bef-861b4c78b24c",
   "metadata": {},
   "outputs": [
    {
     "data": {
      "text/html": [
       "<div>\n",
       "<style scoped>\n",
       "    .dataframe tbody tr th:only-of-type {\n",
       "        vertical-align: middle;\n",
       "    }\n",
       "\n",
       "    .dataframe tbody tr th {\n",
       "        vertical-align: top;\n",
       "    }\n",
       "\n",
       "    .dataframe thead th {\n",
       "        text-align: right;\n",
       "    }\n",
       "</style>\n",
       "<table border=\"1\" class=\"dataframe\">\n",
       "  <thead>\n",
       "    <tr style=\"text-align: right;\">\n",
       "      <th></th>\n",
       "      <th>quality_group</th>\n",
       "      <th>method</th>\n",
       "      <th>success_rate</th>\n",
       "      <th>ci_lower</th>\n",
       "      <th>ci_upper</th>\n",
       "    </tr>\n",
       "  </thead>\n",
       "  <tbody>\n",
       "    <tr>\n",
       "      <th>0</th>\n",
       "      <td>HT</td>\n",
       "      <td>Fred</td>\n",
       "      <td>30.539855</td>\n",
       "      <td>24.637681</td>\n",
       "      <td>36.956522</td>\n",
       "    </tr>\n",
       "    <tr>\n",
       "      <th>1</th>\n",
       "      <td>MT</td>\n",
       "      <td>Fred</td>\n",
       "      <td>23.732222</td>\n",
       "      <td>20.277778</td>\n",
       "      <td>27.500000</td>\n",
       "    </tr>\n",
       "    <tr>\n",
       "      <th>2</th>\n",
       "      <td>NT</td>\n",
       "      <td>Fred</td>\n",
       "      <td>29.475000</td>\n",
       "      <td>0.000000</td>\n",
       "      <td>75.000000</td>\n",
       "    </tr>\n",
       "    <tr>\n",
       "      <th>3</th>\n",
       "      <td>HT</td>\n",
       "      <td>Hybrid</td>\n",
       "      <td>30.786957</td>\n",
       "      <td>23.913043</td>\n",
       "      <td>36.956522</td>\n",
       "    </tr>\n",
       "    <tr>\n",
       "      <th>4</th>\n",
       "      <td>MT</td>\n",
       "      <td>Hybrid</td>\n",
       "      <td>25.790278</td>\n",
       "      <td>21.666667</td>\n",
       "      <td>30.000000</td>\n",
       "    </tr>\n",
       "    <tr>\n",
       "      <th>5</th>\n",
       "      <td>NT</td>\n",
       "      <td>Hybrid</td>\n",
       "      <td>32.325000</td>\n",
       "      <td>0.000000</td>\n",
       "      <td>75.000000</td>\n",
       "    </tr>\n",
       "    <tr>\n",
       "      <th>6</th>\n",
       "      <td>HT</td>\n",
       "      <td>Posit</td>\n",
       "      <td>35.693478</td>\n",
       "      <td>28.985507</td>\n",
       "      <td>42.028986</td>\n",
       "    </tr>\n",
       "    <tr>\n",
       "      <th>7</th>\n",
       "      <td>MT</td>\n",
       "      <td>Posit</td>\n",
       "      <td>29.888333</td>\n",
       "      <td>25.833333</td>\n",
       "      <td>34.166667</td>\n",
       "    </tr>\n",
       "    <tr>\n",
       "      <th>8</th>\n",
       "      <td>NT</td>\n",
       "      <td>Posit</td>\n",
       "      <td>39.225000</td>\n",
       "      <td>0.000000</td>\n",
       "      <td>75.000000</td>\n",
       "    </tr>\n",
       "  </tbody>\n",
       "</table>\n",
       "</div>"
      ],
      "text/plain": [
       "  quality_group  method  success_rate   ci_lower   ci_upper\n",
       "0            HT    Fred     30.539855  24.637681  36.956522\n",
       "1            MT    Fred     23.732222  20.277778  27.500000\n",
       "2            NT    Fred     29.475000   0.000000  75.000000\n",
       "3            HT  Hybrid     30.786957  23.913043  36.956522\n",
       "4            MT  Hybrid     25.790278  21.666667  30.000000\n",
       "5            NT  Hybrid     32.325000   0.000000  75.000000\n",
       "6            HT   Posit     35.693478  28.985507  42.028986\n",
       "7            MT   Posit     29.888333  25.833333  34.166667\n",
       "8            NT   Posit     39.225000   0.000000  75.000000"
      ]
     },
     "execution_count": 6,
     "metadata": {},
     "output_type": "execute_result"
    }
   ],
   "source": [
    "sampled_success_rates"
   ]
  }
 ],
 "metadata": {
  "kernelspec": {
   "display_name": "Python 3 (ipykernel)",
   "language": "python",
   "name": "python3"
  },
  "language_info": {
   "codemirror_mode": {
    "name": "ipython",
    "version": 3
   },
   "file_extension": ".py",
   "mimetype": "text/x-python",
   "name": "python",
   "nbconvert_exporter": "python",
   "pygments_lexer": "ipython3",
   "version": "3.9.12"
  }
 },
 "nbformat": 4,
 "nbformat_minor": 5
}
