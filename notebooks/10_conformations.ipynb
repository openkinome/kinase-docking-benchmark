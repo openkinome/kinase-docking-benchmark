{
 "cells": [
  {
   "cell_type": "markdown",
   "id": "ed845b00-f476-4ec3-b421-9b3035f01929",
   "metadata": {},
   "source": [
    "# Kinase conformations\n",
    "\n",
    "This notebook explores the performance of the docking algorithms **Fred**, **Hybrid** and **Posit** across different kinase conformations and if different scoring metrices can pick the correct kinase conformation in case of **Posit**."
   ]
  },
  {
   "cell_type": "code",
   "execution_count": 1,
   "id": "cd3acff7-3b31-4600-a5e3-7d212dab68dc",
   "metadata": {},
   "outputs": [],
   "source": [
    "from pathlib import Path\n",
    "\n",
    "from matplotlib import pyplot as plt\n",
    "import pandas as pd\n",
    "import seaborn as sns"
   ]
  },
  {
   "cell_type": "code",
   "execution_count": 2,
   "id": "ae49301f-fa35-4825-a562-d8ae8caf2b99",
   "metadata": {},
   "outputs": [],
   "source": [
    "sns.set() # Setting seaborn as default style even if use only matplotlib"
   ]
  },
  {
   "cell_type": "code",
   "execution_count": 3,
   "id": "ce8a84fd-f359-4d35-af86-27c775462d4a",
   "metadata": {},
   "outputs": [],
   "source": [
    "OUT_DIR = Path(\"../pics\")\n",
    "OUT_DIR.mkdir(parents=True, exist_ok=True)"
   ]
  },
  {
   "cell_type": "code",
   "execution_count": 4,
   "id": "33e96c51-c4df-4cbb-9599-0484b3ca42d1",
   "metadata": {},
   "outputs": [
    {
     "name": "stdout",
     "output_type": "stream",
     "text": [
      "Total number of structures in benchmark: 589\n",
      "Number of structures in benchmark with conformation in/in: 413\n",
      "Number of structures in benchmark with conformation in/out: 119\n",
      "Number of structures in benchmark with conformation out/in: 33\n",
      "Number of structures in benchmark with conformation out-like/in: 24\n"
     ]
    }
   ],
   "source": [
    "fred_results = pd.read_csv(\"../data/fred_results.csv\", index_col=0)\n",
    "hybrid_results = pd.read_csv(\"../data/hybrid_results.csv\", index_col=0)\n",
    "posit_results = pd.read_csv(\"../data/posit_results.csv\", index_col=0)\n",
    "docking_benchmark_dataset = pd.read_csv(\"../data/docking_benchmark_dataset.csv\", index_col=0)\n",
    "print(f\"Total number of structures in benchmark: {len(docking_benchmark_dataset)}\")\n",
    "for _, conformation in docking_benchmark_dataset.groupby([\"structure.dfg\", \"structure.ac_helix\"]).head(1).iterrows():\n",
    "    n_structures = sum(\n",
    "        (docking_benchmark_dataset[\"structure.dfg\"] == conformation[\"structure.dfg\"]) &\n",
    "        (docking_benchmark_dataset[\"structure.ac_helix\"] == conformation[\"structure.ac_helix\"])\n",
    "    )\n",
    "    print(f\"Number of structures in benchmark with conformation {conformation['structure.dfg']}/{conformation['structure.ac_helix']}: {n_structures}\")"
   ]
  },
  {
   "cell_type": "markdown",
   "id": "9a6d2335-de07-4d0e-85ff-ee8921293ecc",
   "metadata": {},
   "source": [
    "## Performance across different kinase conformations"
   ]
  },
  {
   "cell_type": "code",
   "execution_count": 5,
   "id": "0ca0c8b6-ee36-4f08-b1dd-cabebac8ac27",
   "metadata": {},
   "outputs": [
    {
     "data": {
      "image/png": "[encoded data removed]",
      "text/plain": [
       "<Figure size 1080x360 with 3 Axes>"
      ]
     },
     "metadata": {
      "needs_background": "light"
     },
     "output_type": "display_data"
    }
   ],
   "source": [
    "def plot_performance(docking_benchmark_dataset, fred_results, hybrid_results, posit_results, n_bootstrap=1000, ci=0.95, directory=OUT_DIR):\n",
    "    \n",
    "    # select pose 1 for Fred and Hybrid, i.e. best pose according to docking score\n",
    "    fred_results = fred_results[fred_results[\"pose\"] == 1]\n",
    "    hybrid_results = hybrid_results[hybrid_results[\"pose\"] == 1]\n",
    "    \n",
    "    # 3 subplots\n",
    "    fig, axes = plt.subplots(1, 3, sharey=True, figsize=(15, 5))\n",
    "    \n",
    "    # sample success rates\n",
    "    sampled_success_rates = []\n",
    "    conformations = docking_benchmark_dataset.groupby(\n",
    "        [\"structure.dfg\", \"structure.ac_helix\"]\n",
    "    ).head(1)[[\"structure.dfg\", \"structure.ac_helix\"]]\n",
    "    for method, results in zip([\"Fred\", \"Hybrid\", \"Posit\"], [fred_results, hybrid_results, posit_results]):\n",
    "        for _, conformation in conformations.iterrows():\n",
    "            conformation_pdb_ids = docking_benchmark_dataset[\n",
    "                (docking_benchmark_dataset[\"structure.dfg\"] == conformation[\"structure.dfg\"]) &\n",
    "                (docking_benchmark_dataset[\"structure.ac_helix\"] == conformation[\"structure.ac_helix\"])\n",
    "            ][\"structure.pdb_id\"].to_list()\n",
    "            result_selection = results[results[\"ligand_pdb_id\"].isin(conformation_pdb_ids)]\n",
    "            sampled_success_rates_i = []\n",
    "            for _ in range(n_bootstrap):\n",
    "                sampled_results = result_selection.groupby(\"ligand_pdb_id\").sample(n=1, replace=True)\n",
    "                sampled_success_labels = (sampled_results[\"rmsd\"] <= 2).to_list()\n",
    "                sampled_success_rates_i.append(\n",
    "                    (sum(sampled_success_labels) / len(sampled_success_labels)) * 100\n",
    "                )\n",
    "            sampled_success_rates_i = sorted(sampled_success_rates_i)\n",
    "            mean = sum(sampled_success_rates_i) / len(sampled_success_rates_i)\n",
    "            cutoff = (1 - ci) / 2\n",
    "            lower_bound = sampled_success_rates_i[int(n_bootstrap * cutoff)]\n",
    "            upper_bound = sampled_success_rates_i[int(n_bootstrap * (ci + cutoff))]\n",
    "            conformation = f\"{conformation['structure.dfg']}/{conformation['structure.ac_helix']}\"\n",
    "            sampled_success_rates.append([conformation, method, mean, lower_bound, upper_bound])\n",
    "            \n",
    "    # plot sampled data\n",
    "    sampled_success_rates = pd.DataFrame(\n",
    "        sampled_success_rates, \n",
    "        columns=[\"conformation\", \"method\", \"success_rate\", \"ci_lower\", \"ci_upper\"]\n",
    "    )\n",
    "    for i, method in enumerate([\"Fred\", \"Hybrid\", \"Posit\"]):\n",
    "        sampled_success_rates_i = sampled_success_rates[sampled_success_rates[\"method\"] == method]\n",
    "        axes[i].errorbar(\n",
    "            x=sampled_success_rates_i[\"conformation\"],\n",
    "            y=sampled_success_rates_i[\"success_rate\"],\n",
    "            yerr=[\n",
    "                sampled_success_rates_i[\"success_rate\"] - sampled_success_rates_i[\"ci_lower\"], \n",
    "                sampled_success_rates_i[\"ci_upper\"] - sampled_success_rates_i[\"success_rate\"]\n",
    "            ],\n",
    "            fmt=\"o\",\n",
    "            elinewidth=1,\n",
    "            capsize=5,\n",
    "            capthick=1\n",
    "        )\n",
    "        axes[i].set_xlabel(\"Kinase conformation\", fontweight=\"bold\")\n",
    "        axes[i].set_title(method, fontweight=\"bold\")\n",
    "    axes[0].set_ylabel(\"Success rate [%]\", fontweight=\"bold\")\n",
    "    axes[0].set_ylim([0, 100])\n",
    "    \n",
    "    plt.tight_layout()\n",
    "    plt.savefig(directory / \"performance_per_conformation.pdf\", dpi=300)\n",
    "    \n",
    "    return sampled_success_rates\n",
    "        \n",
    "        \n",
    "sampled_success_rates = plot_performance(docking_benchmark_dataset, fred_results, hybrid_results, posit_results)"
   ]
  },
  {
   "cell_type": "code",
   "execution_count": 6,
   "id": "e16a8fc2-6588-42c7-9c12-aba7f4cf2957",
   "metadata": {},
   "outputs": [
    {
     "data": {
      "text/html": [
       "<div>\n",
       "<style scoped>\n",
       "    .dataframe tbody tr th:only-of-type {\n",
       "        vertical-align: middle;\n",
       "    }\n",
       "\n",
       "    .dataframe tbody tr th {\n",
       "        vertical-align: top;\n",
       "    }\n",
       "\n",
       "    .dataframe thead th {\n",
       "        text-align: right;\n",
       "    }\n",
       "</style>\n",
       "<table border=\"1\" class=\"dataframe\">\n",
       "  <thead>\n",
       "    <tr style=\"text-align: right;\">\n",
       "      <th></th>\n",
       "      <th>conformation</th>\n",
       "      <th>method</th>\n",
       "      <th>success_rate</th>\n",
       "      <th>ci_lower</th>\n",
       "      <th>ci_upper</th>\n",
       "    </tr>\n",
       "  </thead>\n",
       "  <tbody>\n",
       "    <tr>\n",
       "      <th>0</th>\n",
       "      <td>in/in</td>\n",
       "      <td>Fred</td>\n",
       "      <td>26.581114</td>\n",
       "      <td>23.002421</td>\n",
       "      <td>30.024213</td>\n",
       "    </tr>\n",
       "    <tr>\n",
       "      <th>1</th>\n",
       "      <td>in/out</td>\n",
       "      <td>Fred</td>\n",
       "      <td>12.726891</td>\n",
       "      <td>7.563025</td>\n",
       "      <td>18.487395</td>\n",
       "    </tr>\n",
       "    <tr>\n",
       "      <th>2</th>\n",
       "      <td>out/in</td>\n",
       "      <td>Fred</td>\n",
       "      <td>22.557576</td>\n",
       "      <td>12.121212</td>\n",
       "      <td>33.333333</td>\n",
       "    </tr>\n",
       "    <tr>\n",
       "      <th>3</th>\n",
       "      <td>out-like/in</td>\n",
       "      <td>Fred</td>\n",
       "      <td>31.733333</td>\n",
       "      <td>16.666667</td>\n",
       "      <td>45.833333</td>\n",
       "    </tr>\n",
       "    <tr>\n",
       "      <th>4</th>\n",
       "      <td>in/in</td>\n",
       "      <td>Hybrid</td>\n",
       "      <td>27.795642</td>\n",
       "      <td>24.213075</td>\n",
       "      <td>31.719128</td>\n",
       "    </tr>\n",
       "    <tr>\n",
       "      <th>5</th>\n",
       "      <td>in/out</td>\n",
       "      <td>Hybrid</td>\n",
       "      <td>23.271429</td>\n",
       "      <td>15.966387</td>\n",
       "      <td>30.252101</td>\n",
       "    </tr>\n",
       "    <tr>\n",
       "      <th>6</th>\n",
       "      <td>out/in</td>\n",
       "      <td>Hybrid</td>\n",
       "      <td>30.363636</td>\n",
       "      <td>18.181818</td>\n",
       "      <td>45.454545</td>\n",
       "    </tr>\n",
       "    <tr>\n",
       "      <th>7</th>\n",
       "      <td>out-like/in</td>\n",
       "      <td>Hybrid</td>\n",
       "      <td>33.495833</td>\n",
       "      <td>16.666667</td>\n",
       "      <td>50.000000</td>\n",
       "    </tr>\n",
       "    <tr>\n",
       "      <th>8</th>\n",
       "      <td>in/in</td>\n",
       "      <td>Posit</td>\n",
       "      <td>34.589831</td>\n",
       "      <td>30.750605</td>\n",
       "      <td>38.498789</td>\n",
       "    </tr>\n",
       "    <tr>\n",
       "      <th>9</th>\n",
       "      <td>in/out</td>\n",
       "      <td>Posit</td>\n",
       "      <td>28.205882</td>\n",
       "      <td>21.848739</td>\n",
       "      <td>35.294118</td>\n",
       "    </tr>\n",
       "    <tr>\n",
       "      <th>10</th>\n",
       "      <td>out/in</td>\n",
       "      <td>Posit</td>\n",
       "      <td>32.512121</td>\n",
       "      <td>18.181818</td>\n",
       "      <td>48.484848</td>\n",
       "    </tr>\n",
       "    <tr>\n",
       "      <th>11</th>\n",
       "      <td>out-like/in</td>\n",
       "      <td>Posit</td>\n",
       "      <td>32.245833</td>\n",
       "      <td>16.666667</td>\n",
       "      <td>45.833333</td>\n",
       "    </tr>\n",
       "  </tbody>\n",
       "</table>\n",
       "</div>"
      ],
      "text/plain": [
       "   conformation  method  success_rate   ci_lower   ci_upper\n",
       "0         in/in    Fred     26.581114  23.002421  30.024213\n",
       "1        in/out    Fred     12.726891   7.563025  18.487395\n",
       "2        out/in    Fred     22.557576  12.121212  33.333333\n",
       "3   out-like/in    Fred     31.733333  16.666667  45.833333\n",
       "4         in/in  Hybrid     27.795642  24.213075  31.719128\n",
       "5        in/out  Hybrid     23.271429  15.966387  30.252101\n",
       "6        out/in  Hybrid     30.363636  18.181818  45.454545\n",
       "7   out-like/in  Hybrid     33.495833  16.666667  50.000000\n",
       "8         in/in   Posit     34.589831  30.750605  38.498789\n",
       "9        in/out   Posit     28.205882  21.848739  35.294118\n",
       "10       out/in   Posit     32.512121  18.181818  48.484848\n",
       "11  out-like/in   Posit     32.245833  16.666667  45.833333"
      ]
     },
     "execution_count": 6,
     "metadata": {},
     "output_type": "execute_result"
    }
   ],
   "source": [
    "sampled_success_rates"
   ]
  }
 ],
 "metadata": {
  "kernelspec": {
   "display_name": "Python 3 (ipykernel)",
   "language": "python",
   "name": "python3"
  },
  "language_info": {
   "codemirror_mode": {
    "name": "ipython",
    "version": 3
   },
   "file_extension": ".py",
   "mimetype": "text/x-python",
   "name": "python",
   "nbconvert_exporter": "python",
   "pygments_lexer": "ipython3",
   "version": "3.9.12"
  }
 },
 "nbformat": 4,
 "nbformat_minor": 5
}
